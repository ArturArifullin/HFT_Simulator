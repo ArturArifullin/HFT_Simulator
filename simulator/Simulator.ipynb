{
 "cells": [
  {
   "cell_type": "code",
   "execution_count": 1,
   "id": "3a2184ed",
   "metadata": {},
   "outputs": [],
   "source": [
    "from simulator import Sim\n",
    "from strategy import BestPosStrategy\n",
    "from get_info import get_pnl\n",
    "from load_data import load_md_from_file\n",
    "\n",
    "\n",
    "import pandas as pd\n",
    "import numpy as np\n",
    "from matplotlib import pyplot as plt\n",
    "\n",
    "PATH_TO_FILE = '../md/btcusdt:Binance:LinearPerpetual/'\n",
    "NROWS = 20000"
   ]
  },
  {
   "cell_type": "code",
   "execution_count": 2,
   "id": "ec48792b",
   "metadata": {},
   "outputs": [],
   "source": [
    "md = load_md_from_file(path=PATH_TO_FILE, nrows=NROWS)"
   ]
  },
  {
   "cell_type": "code",
   "execution_count": 3,
   "id": "d6a478b4",
   "metadata": {},
   "outputs": [],
   "source": [
    "latency = pd.Timedelta(10, 'ms').delta\n",
    "md_latency = pd.Timedelta(10, 'ms').delta\n",
    "\n",
    "sim = Sim(md, latency, md_latency)"
   ]
  },
  {
   "cell_type": "code",
   "execution_count": 4,
   "id": "4e657f6c",
   "metadata": {},
   "outputs": [],
   "source": [
    "#delay between orders\n",
    "delay = pd.Timedelta(0.1, 's').delta\n",
    "\n",
    "hold_time = pd.Timedelta(10, 's').delta\n",
    "\n",
    "strategy = BestPosStrategy(delay, hold_time)"
   ]
  },
  {
   "cell_type": "code",
   "execution_count": 5,
   "id": "0c887061",
   "metadata": {},
   "outputs": [],
   "source": [
    "trades_list, md_list, updates_list, all_orders = strategy.run(sim)"
   ]
  },
  {
   "cell_type": "code",
   "execution_count": 7,
   "id": "5c191924",
   "metadata": {},
   "outputs": [],
   "source": [
    "df = get_pnl(updates_list)"
   ]
  },
  {
   "cell_type": "code",
   "execution_count": 8,
   "id": "a2da65fc",
   "metadata": {},
   "outputs": [
    {
     "data": {
      "text/html": [
       "<div>\n",
       "<style scoped>\n",
       "    .dataframe tbody tr th:only-of-type {\n",
       "        vertical-align: middle;\n",
       "    }\n",
       "\n",
       "    .dataframe tbody tr th {\n",
       "        vertical-align: top;\n",
       "    }\n",
       "\n",
       "    .dataframe thead th {\n",
       "        text-align: right;\n",
       "    }\n",
       "</style>\n",
       "<table border=\"1\" class=\"dataframe\">\n",
       "  <thead>\n",
       "    <tr style=\"text-align: right;\">\n",
       "      <th></th>\n",
       "      <th>receive_ts</th>\n",
       "      <th>exchange_ts</th>\n",
       "      <th>total</th>\n",
       "      <th>BTC</th>\n",
       "      <th>USD</th>\n",
       "      <th>mid_price</th>\n",
       "    </tr>\n",
       "  </thead>\n",
       "  <tbody>\n",
       "    <tr>\n",
       "      <th>0</th>\n",
       "      <td>1655942402250125991</td>\n",
       "      <td>1655942402249000000</td>\n",
       "      <td>0.00000</td>\n",
       "      <td>0.000</td>\n",
       "      <td>0.0000</td>\n",
       "      <td>19977.45</td>\n",
       "    </tr>\n",
       "    <tr>\n",
       "      <th>1</th>\n",
       "      <td>1655942402624789714</td>\n",
       "      <td>1655942402623000000</td>\n",
       "      <td>0.00000</td>\n",
       "      <td>0.000</td>\n",
       "      <td>0.0000</td>\n",
       "      <td>19977.45</td>\n",
       "    </tr>\n",
       "    <tr>\n",
       "      <th>2</th>\n",
       "      <td>1655942402633000000</td>\n",
       "      <td>1655942402623000000</td>\n",
       "      <td>0.00005</td>\n",
       "      <td>-0.001</td>\n",
       "      <td>19.9775</td>\n",
       "      <td>19977.45</td>\n",
       "    </tr>\n",
       "    <tr>\n",
       "      <th>3</th>\n",
       "      <td>1655942402657844605</td>\n",
       "      <td>1655942402655000000</td>\n",
       "      <td>0.00005</td>\n",
       "      <td>-0.001</td>\n",
       "      <td>19.9775</td>\n",
       "      <td>19977.45</td>\n",
       "    </tr>\n",
       "    <tr>\n",
       "      <th>4</th>\n",
       "      <td>1655942403346968722</td>\n",
       "      <td>1655942403346000000</td>\n",
       "      <td>0.00005</td>\n",
       "      <td>-0.001</td>\n",
       "      <td>19.9775</td>\n",
       "      <td>19977.45</td>\n",
       "    </tr>\n",
       "    <tr>\n",
       "      <th>...</th>\n",
       "      <td>...</td>\n",
       "      <td>...</td>\n",
       "      <td>...</td>\n",
       "      <td>...</td>\n",
       "      <td>...</td>\n",
       "      <td>...</td>\n",
       "    </tr>\n",
       "    <tr>\n",
       "      <th>44924</th>\n",
       "      <td>1655943168396342298</td>\n",
       "      <td>1655943168395000000</td>\n",
       "      <td>-23.59750</td>\n",
       "      <td>-0.322</td>\n",
       "      <td>6436.3826</td>\n",
       "      <td>20062.05</td>\n",
       "    </tr>\n",
       "    <tr>\n",
       "      <th>44925</th>\n",
       "      <td>1655943168428322402</td>\n",
       "      <td>1655943168427000000</td>\n",
       "      <td>-23.59750</td>\n",
       "      <td>-0.322</td>\n",
       "      <td>6436.3826</td>\n",
       "      <td>20062.05</td>\n",
       "    </tr>\n",
       "    <tr>\n",
       "      <th>44926</th>\n",
       "      <td>1655943168460421782</td>\n",
       "      <td>1655943168459000000</td>\n",
       "      <td>-23.59750</td>\n",
       "      <td>-0.322</td>\n",
       "      <td>6436.3826</td>\n",
       "      <td>20062.05</td>\n",
       "    </tr>\n",
       "    <tr>\n",
       "      <th>44927</th>\n",
       "      <td>1655943168494977476</td>\n",
       "      <td>1655943168494000000</td>\n",
       "      <td>-23.59750</td>\n",
       "      <td>-0.322</td>\n",
       "      <td>6436.3826</td>\n",
       "      <td>20062.05</td>\n",
       "    </tr>\n",
       "    <tr>\n",
       "      <th>44928</th>\n",
       "      <td>1655943168527115625</td>\n",
       "      <td>1655943168526000000</td>\n",
       "      <td>-23.59750</td>\n",
       "      <td>-0.322</td>\n",
       "      <td>6436.3826</td>\n",
       "      <td>20062.05</td>\n",
       "    </tr>\n",
       "  </tbody>\n",
       "</table>\n",
       "<p>44929 rows × 6 columns</p>\n",
       "</div>"
      ],
      "text/plain": [
       "                receive_ts          exchange_ts     total    BTC        USD  \\\n",
       "0      1655942402250125991  1655942402249000000   0.00000  0.000     0.0000   \n",
       "1      1655942402624789714  1655942402623000000   0.00000  0.000     0.0000   \n",
       "2      1655942402633000000  1655942402623000000   0.00005 -0.001    19.9775   \n",
       "3      1655942402657844605  1655942402655000000   0.00005 -0.001    19.9775   \n",
       "4      1655942403346968722  1655942403346000000   0.00005 -0.001    19.9775   \n",
       "...                    ...                  ...       ...    ...        ...   \n",
       "44924  1655943168396342298  1655943168395000000 -23.59750 -0.322  6436.3826   \n",
       "44925  1655943168428322402  1655943168427000000 -23.59750 -0.322  6436.3826   \n",
       "44926  1655943168460421782  1655943168459000000 -23.59750 -0.322  6436.3826   \n",
       "44927  1655943168494977476  1655943168494000000 -23.59750 -0.322  6436.3826   \n",
       "44928  1655943168527115625  1655943168526000000 -23.59750 -0.322  6436.3826   \n",
       "\n",
       "       mid_price  \n",
       "0       19977.45  \n",
       "1       19977.45  \n",
       "2       19977.45  \n",
       "3       19977.45  \n",
       "4       19977.45  \n",
       "...          ...  \n",
       "44924   20062.05  \n",
       "44925   20062.05  \n",
       "44926   20062.05  \n",
       "44927   20062.05  \n",
       "44928   20062.05  \n",
       "\n",
       "[44929 rows x 6 columns]"
      ]
     },
     "execution_count": 8,
     "metadata": {},
     "output_type": "execute_result"
    }
   ],
   "source": [
    "df"
   ]
  },
  {
   "cell_type": "code",
   "execution_count": 7,
   "id": "6f371738",
   "metadata": {},
   "outputs": [],
   "source": [
    "dt = pd.to_datetime(df.receive_ts)"
   ]
  },
  {
   "cell_type": "code",
   "execution_count": 8,
   "id": "f88031be",
   "metadata": {},
   "outputs": [
    {
     "data": {
      "image/png": "[encoded data removed]",
      "text/plain": [
       "<Figure size 720x360 with 1 Axes>"
      ]
     },
     "metadata": {
      "needs_background": "light"
     },
     "output_type": "display_data"
    }
   ],
   "source": [
    "plt.figure(figsize=(10, 5))\n",
    "plt.plot(dt, df.total, '-')\n",
    "plt.xlabel(\"time\", fontsize=13)\n",
    "plt.ylabel(\"PnL\", fontsize=13)\n",
    "plt.title(\"BestStrategy PnL\", fontsize=15)\n",
    "plt.grid()\n",
    "plt.show()"
   ]
  },
  {
   "cell_type": "code",
   "execution_count": 9,
   "id": "93c4cb6f",
   "metadata": {},
   "outputs": [],
   "source": [
    "from simulator import Sim\n",
    "from strategy import BestPosStrategy\n",
    "from get_info import get_pnl\n",
    "from load_data import merge_books_and_trades\n",
    "\n",
    "\n",
    "import pandas as pd\n",
    "import numpy as np\n",
    "from matplotlib import pyplot as plt"
   ]
  },
  {
   "cell_type": "code",
   "execution_count": 10,
   "id": "077557e8",
   "metadata": {},
   "outputs": [],
   "source": [
    "from simulator import MdUpdate, OrderbookSnapshotUpdate, AnonTrade\n",
    "\n",
    "from get_info import md_to_dataframe, trade_to_dataframe"
   ]
  },
  {
   "cell_type": "code",
   "execution_count": 11,
   "id": "70330ff4",
   "metadata": {},
   "outputs": [],
   "source": [
    "def generate_sample_data_1(n_points):\n",
    "    mid_price = 100.0\n",
    "    spread = 2.0\n",
    "    bid_price = mid_price - spread / 2\n",
    "    ask_price = mid_price + spread / 2\n",
    "    size = 1\n",
    "    \n",
    "    books = [OrderbookSnapshotUpdate(2 * i, 2 * i, [(ask_price, size)], [(bid_price, size)]) for i in range(1) ]\n",
    "    \n",
    "    trades = []\n",
    "    p = 0.25\n",
    "    trade_id = np.random.choice([0, 1], size=n_points, p=[1-p, p])\n",
    "    trade_id = [i % 5 == 0 for i in range(n_points)]\n",
    "    for i in range(n_points):\n",
    "        \n",
    "        if trade_id[i]:\n",
    "            \n",
    "            side = np.random.choice([0, 1], size=1)[0]\n",
    "            price = bid_price if side else ask_price\n",
    "            side = \"ASK\" if side else \"BID\" \n",
    "            trade = AnonTrade(2 * i + 1, 2 * i + 1, side, size, price)\n",
    "            trades.append(trade)\n",
    "\n",
    "    return books, trades"
   ]
  },
  {
   "cell_type": "code",
   "execution_count": 12,
   "id": "be3a9d8a",
   "metadata": {},
   "outputs": [],
   "source": [
    "def generate_sample_data_2(n_points):\n",
    "    \n",
    "    mid_price = 100.0\n",
    "    spread = 2.0\n",
    "    bid_price = mid_price - spread / 2\n",
    "    ask_price = mid_price + spread / 2\n",
    "    size = 1\n",
    "    \n",
    "    books = []\n",
    "    \n",
    "    \n",
    "    trades = []\n",
    "    p = 0.5\n",
    "    for i in range(n_points):\n",
    "        \n",
    "        bid_price = mid_price - spread / 2\n",
    "        ask_price = mid_price + spread / 2\n",
    "        \n",
    "        book = OrderbookSnapshotUpdate(i, i, [(ask_price, size)], [(bid_price, size)])\n",
    "        books.append( book  )\n",
    "        mid_price += 1\n",
    "    return books, trades"
   ]
  },
  {
   "cell_type": "code",
   "execution_count": 13,
   "id": "12251a9e",
   "metadata": {},
   "outputs": [
    {
     "data": {
      "image/png": "[encoded data removed]",
      "text/plain": [
       "<Figure size 720x360 with 1 Axes>"
      ]
     },
     "metadata": {
      "needs_background": "light"
     },
     "output_type": "display_data"
    }
   ],
   "source": [
    "books, anon_trades = generate_sample_data_1(16)\n",
    "\n",
    "md = merge_books_and_trades(books, anon_trades)\n",
    "\n",
    "latency = pd.Timedelta(0, 'ns').delta\n",
    "md_latency = pd.Timedelta(0, 'ns').delta\n",
    "sim = Sim(md, latency, md_latency)\n",
    "\n",
    "#delay between orders\n",
    "delay = pd.Timedelta(1, 'ns').delta\n",
    "hold_time = pd.Timedelta(1000, 'ns').delta\n",
    "strategy = BestPosStrategy(delay, hold_time)\n",
    "\n",
    "own_trades, md_list, updates_list, all_orders = strategy.run(sim)\n",
    "\n",
    "df_info = get_pnl(updates_list)\n",
    "t = df_info.receive_ts.values\n",
    "\n",
    "plt.figure(figsize=(10, 5))\n",
    "plt.plot(t, df_info.total, '.-', 'PnL')\n",
    "plt.xlabel(\"time\", fontsize=13)\n",
    "plt.ylabel(\"PnL\", fontsize=13)\n",
    "\n",
    "plt.title(\"BestStrategy PnL\", fontsize=15)\n",
    "plt.grid()\n",
    "plt.show()"
   ]
  },
  {
   "cell_type": "code",
   "execution_count": 14,
   "id": "aef6c952",
   "metadata": {},
   "outputs": [
    {
     "data": {
      "text/plain": [
       "[MdUpdate(exchange_ts=0, receive_ts=0, orderbook=OrderbookSnapshotUpdate(exchange_ts=0, receive_ts=0, asks=[(101.0, 1)], bids=[(99.0, 1)]), trade=None),\n",
       " MdUpdate(exchange_ts=1, receive_ts=1, orderbook=None, trade=AnonTrade(exchange_ts=1, receive_ts=1, side='ASK', size=1, price=99.0)),\n",
       " OwnTrade(place_ts=0, exchange_ts=1, receive_ts=1, trade_id=0, order_id=0, side='BID', size=0.001, price=99.0, execute='TRADE'),\n",
       " MdUpdate(exchange_ts=11, receive_ts=11, orderbook=None, trade=AnonTrade(exchange_ts=11, receive_ts=11, side='BID', size=1, price=101.0)),\n",
       " OwnTrade(place_ts=0, exchange_ts=11, receive_ts=11, trade_id=1, order_id=1, side='ASK', size=0.001, price=101.0, execute='TRADE'),\n",
       " OwnTrade(place_ts=1, exchange_ts=11, receive_ts=11, trade_id=2, order_id=3, side='ASK', size=0.001, price=101.0, execute='TRADE'),\n",
       " MdUpdate(exchange_ts=21, receive_ts=21, orderbook=None, trade=AnonTrade(exchange_ts=21, receive_ts=21, side='ASK', size=1, price=99.0)),\n",
       " OwnTrade(place_ts=1, exchange_ts=21, receive_ts=21, trade_id=3, order_id=2, side='BID', size=0.001, price=99.0, execute='TRADE'),\n",
       " OwnTrade(place_ts=11, exchange_ts=21, receive_ts=21, trade_id=4, order_id=4, side='BID', size=0.001, price=99.0, execute='TRADE'),\n",
       " MdUpdate(exchange_ts=31, receive_ts=31, orderbook=None, trade=AnonTrade(exchange_ts=31, receive_ts=31, side='ASK', size=1, price=99.0)),\n",
       " OwnTrade(place_ts=21, exchange_ts=31, receive_ts=31, trade_id=5, order_id=6, side='BID', size=0.001, price=99.0, execute='TRADE')]"
      ]
     },
     "execution_count": 14,
     "metadata": {},
     "output_type": "execute_result"
    }
   ],
   "source": [
    "updates_list"
   ]
  },
  {
   "cell_type": "code",
   "execution_count": 15,
   "id": "4e3f54f1",
   "metadata": {},
   "outputs": [
    {
     "data": {
      "text/plain": [
       "[Order(place_ts=0, exchange_ts=0, order_id=0, side='BID', size=0.001, price=99.0),\n",
       " Order(place_ts=0, exchange_ts=0, order_id=1, side='ASK', size=0.001, price=101.0),\n",
       " Order(place_ts=1, exchange_ts=1, order_id=2, side='BID', size=0.001, price=99.0),\n",
       " Order(place_ts=1, exchange_ts=1, order_id=3, side='ASK', size=0.001, price=101.0),\n",
       " Order(place_ts=11, exchange_ts=11, order_id=4, side='BID', size=0.001, price=99.0),\n",
       " Order(place_ts=11, exchange_ts=11, order_id=5, side='ASK', size=0.001, price=101.0),\n",
       " Order(place_ts=21, exchange_ts=21, order_id=6, side='BID', size=0.001, price=99.0),\n",
       " Order(place_ts=21, exchange_ts=21, order_id=7, side='ASK', size=0.001, price=101.0),\n",
       " Order(place_ts=31, exchange_ts=31, order_id=8, side='BID', size=0.001, price=99.0),\n",
       " Order(place_ts=31, exchange_ts=31, order_id=9, side='ASK', size=0.001, price=101.0)]"
      ]
     },
     "execution_count": 15,
     "metadata": {},
     "output_type": "execute_result"
    }
   ],
   "source": [
    "all_orders"
   ]
  },
  {
   "cell_type": "code",
   "execution_count": 16,
   "id": "c73fb7c0",
   "metadata": {},
   "outputs": [
    {
     "data": {
      "text/plain": [
       "{5: Order(place_ts=11, exchange_ts=11, order_id=5, side='ASK', size=0.001, price=101.0),\n",
       " 7: Order(place_ts=21, exchange_ts=21, order_id=7, side='ASK', size=0.001, price=101.0),\n",
       " 8: Order(place_ts=31, exchange_ts=31, order_id=8, side='BID', size=0.001, price=99.0),\n",
       " 9: Order(place_ts=31, exchange_ts=31, order_id=9, side='ASK', size=0.001, price=101.0)}"
      ]
     },
     "execution_count": 16,
     "metadata": {},
     "output_type": "execute_result"
    }
   ],
   "source": [
    "sim.ready_to_execute_orders"
   ]
  }
 ],
 "metadata": {
  "kernelspec": {
   "display_name": "Python 3 (ipykernel)",
   "language": "python",
   "name": "python3"
  },
  "language_info": {
   "codemirror_mode": {
    "name": "ipython",
    "version": 3
   },
   "file_extension": ".py",
   "mimetype": "text/x-python",
   "name": "python",
   "nbconvert_exporter": "python",
   "pygments_lexer": "ipython3",
   "version": "3.9.7"
  }
 },
 "nbformat": 4,
 "nbformat_minor": 5
}
