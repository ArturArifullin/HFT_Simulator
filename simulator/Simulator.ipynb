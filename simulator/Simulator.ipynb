{
 "cells": [
  {
   "cell_type": "code",
   "execution_count": 1,
   "id": "3a2184ed",
   "metadata": {},
   "outputs": [],
   "source": [
    "from simulator import Sim\n",
    "from strategy import BestPosStrategy\n",
    "from get_info import get_pnl\n",
    "from load_data import load_md_from_file\n",
    "\n",
    "\n",
    "import pandas as pd\n",
    "import numpy as np\n",
    "from matplotlib import pyplot as plt\n",
    "\n",
    "PATH_TO_FILE = '../md/btcusdt:Binance:LinearPerpetual/'\n",
    "NROWS = 2000"
   ]
  },
  {
   "cell_type": "code",
   "execution_count": 2,
   "id": "ec48792b",
   "metadata": {},
   "outputs": [],
   "source": [
    "md = load_md_from_file(path=PATH_TO_FILE, nrows=NROWS)"
   ]
  },
  {
   "cell_type": "code",
   "execution_count": 3,
   "id": "803becb8",
   "metadata": {},
   "outputs": [],
   "source": [
    "trades = pd.read_csv(PATH_TO_FILE+'trades.csv', nrows=100000)"
   ]
  },
  {
   "cell_type": "code",
   "execution_count": 4,
   "id": "18ede933",
   "metadata": {},
   "outputs": [
    {
     "data": {
      "text/html": [
       "<div>\n",
       "<style scoped>\n",
       "    .dataframe tbody tr th:only-of-type {\n",
       "        vertical-align: middle;\n",
       "    }\n",
       "\n",
       "    .dataframe tbody tr th {\n",
       "        vertical-align: top;\n",
       "    }\n",
       "\n",
       "    .dataframe thead th {\n",
       "        text-align: right;\n",
       "    }\n",
       "</style>\n",
       "<table border=\"1\" class=\"dataframe\">\n",
       "  <thead>\n",
       "    <tr style=\"text-align: right;\">\n",
       "      <th></th>\n",
       "      <th>receive_ts</th>\n",
       "      <th>exchange_ts</th>\n",
       "      <th>aggro_side</th>\n",
       "      <th>price</th>\n",
       "      <th>size</th>\n",
       "    </tr>\n",
       "  </thead>\n",
       "  <tbody>\n",
       "    <tr>\n",
       "      <th>0</th>\n",
       "      <td>1655942402624789714</td>\n",
       "      <td>1655942402623000000</td>\n",
       "      <td>BID</td>\n",
       "      <td>19977.5</td>\n",
       "      <td>0.001</td>\n",
       "    </tr>\n",
       "    <tr>\n",
       "      <th>1</th>\n",
       "      <td>1655942405293556247</td>\n",
       "      <td>1655942405292000000</td>\n",
       "      <td>BID</td>\n",
       "      <td>19977.5</td>\n",
       "      <td>0.041</td>\n",
       "    </tr>\n",
       "    <tr>\n",
       "      <th>2</th>\n",
       "      <td>1655942405293628020</td>\n",
       "      <td>1655942405292000000</td>\n",
       "      <td>BID</td>\n",
       "      <td>19977.5</td>\n",
       "      <td>0.036</td>\n",
       "    </tr>\n",
       "    <tr>\n",
       "      <th>3</th>\n",
       "      <td>1655942405293832021</td>\n",
       "      <td>1655942405292000000</td>\n",
       "      <td>BID</td>\n",
       "      <td>19977.5</td>\n",
       "      <td>0.001</td>\n",
       "    </tr>\n",
       "    <tr>\n",
       "      <th>4</th>\n",
       "      <td>1655942405293929517</td>\n",
       "      <td>1655942405292000000</td>\n",
       "      <td>BID</td>\n",
       "      <td>19977.5</td>\n",
       "      <td>0.001</td>\n",
       "    </tr>\n",
       "    <tr>\n",
       "      <th>5</th>\n",
       "      <td>1655942405294003345</td>\n",
       "      <td>1655942405292000000</td>\n",
       "      <td>BID</td>\n",
       "      <td>19977.8</td>\n",
       "      <td>0.003</td>\n",
       "    </tr>\n",
       "    <tr>\n",
       "      <th>6</th>\n",
       "      <td>1655942405294140676</td>\n",
       "      <td>1655942405292000000</td>\n",
       "      <td>BID</td>\n",
       "      <td>19977.9</td>\n",
       "      <td>0.003</td>\n",
       "    </tr>\n",
       "    <tr>\n",
       "      <th>7</th>\n",
       "      <td>1655942405294206928</td>\n",
       "      <td>1655942405292000000</td>\n",
       "      <td>BID</td>\n",
       "      <td>19978.0</td>\n",
       "      <td>0.001</td>\n",
       "    </tr>\n",
       "    <tr>\n",
       "      <th>8</th>\n",
       "      <td>1655942408891268324</td>\n",
       "      <td>1655942408890000000</td>\n",
       "      <td>ASK</td>\n",
       "      <td>19977.9</td>\n",
       "      <td>0.020</td>\n",
       "    </tr>\n",
       "    <tr>\n",
       "      <th>9</th>\n",
       "      <td>1655942409197011118</td>\n",
       "      <td>1655942409193000000</td>\n",
       "      <td>BID</td>\n",
       "      <td>19978.0</td>\n",
       "      <td>0.058</td>\n",
       "    </tr>\n",
       "    <tr>\n",
       "      <th>10</th>\n",
       "      <td>1655942409197062640</td>\n",
       "      <td>1655942409193000000</td>\n",
       "      <td>BID</td>\n",
       "      <td>19978.0</td>\n",
       "      <td>0.025</td>\n",
       "    </tr>\n",
       "    <tr>\n",
       "      <th>11</th>\n",
       "      <td>1655942409197152297</td>\n",
       "      <td>1655942409193000000</td>\n",
       "      <td>BID</td>\n",
       "      <td>19978.0</td>\n",
       "      <td>0.009</td>\n",
       "    </tr>\n",
       "    <tr>\n",
       "      <th>12</th>\n",
       "      <td>1655942409197224281</td>\n",
       "      <td>1655942409193000000</td>\n",
       "      <td>BID</td>\n",
       "      <td>19978.0</td>\n",
       "      <td>0.058</td>\n",
       "    </tr>\n",
       "    <tr>\n",
       "      <th>13</th>\n",
       "      <td>1655942409197332686</td>\n",
       "      <td>1655942409193000000</td>\n",
       "      <td>ASK</td>\n",
       "      <td>19977.9</td>\n",
       "      <td>0.061</td>\n",
       "    </tr>\n",
       "    <tr>\n",
       "      <th>14</th>\n",
       "      <td>1655942409197580020</td>\n",
       "      <td>1655942409193000000</td>\n",
       "      <td>ASK</td>\n",
       "      <td>19977.9</td>\n",
       "      <td>0.172</td>\n",
       "    </tr>\n",
       "    <tr>\n",
       "      <th>15</th>\n",
       "      <td>1655942409199451160</td>\n",
       "      <td>1655942409198000000</td>\n",
       "      <td>BID</td>\n",
       "      <td>19978.0</td>\n",
       "      <td>0.199</td>\n",
       "    </tr>\n",
       "    <tr>\n",
       "      <th>16</th>\n",
       "      <td>1655942409204488631</td>\n",
       "      <td>1655942409202000000</td>\n",
       "      <td>BID</td>\n",
       "      <td>19978.0</td>\n",
       "      <td>0.099</td>\n",
       "    </tr>\n",
       "    <tr>\n",
       "      <th>17</th>\n",
       "      <td>1655942409204712816</td>\n",
       "      <td>1655942409202000000</td>\n",
       "      <td>BID</td>\n",
       "      <td>19978.0</td>\n",
       "      <td>0.065</td>\n",
       "    </tr>\n",
       "    <tr>\n",
       "      <th>18</th>\n",
       "      <td>1655942409204849010</td>\n",
       "      <td>1655942409202000000</td>\n",
       "      <td>BID</td>\n",
       "      <td>19978.0</td>\n",
       "      <td>0.003</td>\n",
       "    </tr>\n",
       "    <tr>\n",
       "      <th>19</th>\n",
       "      <td>1655942409219420616</td>\n",
       "      <td>1655942409215000000</td>\n",
       "      <td>BID</td>\n",
       "      <td>19978.0</td>\n",
       "      <td>0.040</td>\n",
       "    </tr>\n",
       "  </tbody>\n",
       "</table>\n",
       "</div>"
      ],
      "text/plain": [
       "             receive_ts          exchange_ts aggro_side    price   size\n",
       "0   1655942402624789714  1655942402623000000        BID  19977.5  0.001\n",
       "1   1655942405293556247  1655942405292000000        BID  19977.5  0.041\n",
       "2   1655942405293628020  1655942405292000000        BID  19977.5  0.036\n",
       "3   1655942405293832021  1655942405292000000        BID  19977.5  0.001\n",
       "4   1655942405293929517  1655942405292000000        BID  19977.5  0.001\n",
       "5   1655942405294003345  1655942405292000000        BID  19977.8  0.003\n",
       "6   1655942405294140676  1655942405292000000        BID  19977.9  0.003\n",
       "7   1655942405294206928  1655942405292000000        BID  19978.0  0.001\n",
       "8   1655942408891268324  1655942408890000000        ASK  19977.9  0.020\n",
       "9   1655942409197011118  1655942409193000000        BID  19978.0  0.058\n",
       "10  1655942409197062640  1655942409193000000        BID  19978.0  0.025\n",
       "11  1655942409197152297  1655942409193000000        BID  19978.0  0.009\n",
       "12  1655942409197224281  1655942409193000000        BID  19978.0  0.058\n",
       "13  1655942409197332686  1655942409193000000        ASK  19977.9  0.061\n",
       "14  1655942409197580020  1655942409193000000        ASK  19977.9  0.172\n",
       "15  1655942409199451160  1655942409198000000        BID  19978.0  0.199\n",
       "16  1655942409204488631  1655942409202000000        BID  19978.0  0.099\n",
       "17  1655942409204712816  1655942409202000000        BID  19978.0  0.065\n",
       "18  1655942409204849010  1655942409202000000        BID  19978.0  0.003\n",
       "19  1655942409219420616  1655942409215000000        BID  19978.0  0.040"
      ]
     },
     "execution_count": 4,
     "metadata": {},
     "output_type": "execute_result"
    }
   ],
   "source": [
    "trades.head(20)"
   ]
  },
  {
   "cell_type": "code",
   "execution_count": 5,
   "id": "354c1aa8",
   "metadata": {},
   "outputs": [
    {
     "data": {
      "text/plain": [
       "35350"
      ]
     },
     "execution_count": 5,
     "metadata": {},
     "output_type": "execute_result"
    }
   ],
   "source": [
    "len(set(trades.exchange_ts))"
   ]
  },
  {
   "cell_type": "code",
   "execution_count": 6,
   "id": "cd913c76",
   "metadata": {},
   "outputs": [
    {
     "data": {
      "text/plain": [
       "100000"
      ]
     },
     "execution_count": 6,
     "metadata": {},
     "output_type": "execute_result"
    }
   ],
   "source": [
    "len(set(trades.receive_ts))"
   ]
  },
  {
   "cell_type": "code",
   "execution_count": 7,
   "id": "d6a478b4",
   "metadata": {},
   "outputs": [],
   "source": [
    "latency = pd.Timedelta(10, 'ms').delta\n",
    "md_latency = pd.Timedelta(10, 'ms').delta\n",
    "\n",
    "sim = Sim(md, latency, md_latency)"
   ]
  },
  {
   "cell_type": "code",
   "execution_count": 8,
   "id": "4e657f6c",
   "metadata": {},
   "outputs": [],
   "source": [
    "#delay between orders\n",
    "delay = pd.Timedelta(0.1, 's').delta\n",
    "\n",
    "hold_time = pd.Timedelta(10, 's').delta\n",
    "\n",
    "strategy = BestPosStrategy(delay, hold_time)"
   ]
  },
  {
   "cell_type": "code",
   "execution_count": 9,
   "id": "0c887061",
   "metadata": {},
   "outputs": [],
   "source": [
    "trades_list, md_list, updates_list = strategy.run(sim)"
   ]
  },
  {
   "cell_type": "code",
   "execution_count": 10,
   "id": "5c191924",
   "metadata": {},
   "outputs": [],
   "source": [
    "df = get_pnl(updates_list)"
   ]
  },
  {
   "cell_type": "code",
   "execution_count": 11,
   "id": "6f371738",
   "metadata": {},
   "outputs": [],
   "source": [
    "dt = pd.to_datetime(df.receive_ts)"
   ]
  },
  {
   "cell_type": "code",
   "execution_count": 12,
   "id": "f88031be",
   "metadata": {},
   "outputs": [
    {
     "data": {
      "image/png": "[encoded data removed]",
      "text/plain": [
       "<Figure size 1000x500 with 1 Axes>"
      ]
     },
     "metadata": {},
     "output_type": "display_data"
    }
   ],
   "source": [
    "plt.figure(figsize=(10, 5))\n",
    "plt.plot(dt, df.total, '-')\n",
    "plt.xlabel(\"time\", fontsize=13)\n",
    "plt.ylabel(\"PnL\", fontsize=13)\n",
    "plt.title(\"BestStrategy PnL\", fontsize=15)\n",
    "plt.grid()\n",
    "plt.show()"
   ]
  },
  {
   "cell_type": "code",
   "execution_count": null,
   "id": "4e482573",
   "metadata": {},
   "outputs": [],
   "source": []
  },
  {
   "cell_type": "code",
   "execution_count": 13,
   "id": "93c4cb6f",
   "metadata": {},
   "outputs": [],
   "source": [
    "from simulator import Sim\n",
    "from strategy import BestPosStrategy\n",
    "from get_info import get_pnl\n",
    "from load_data import load_md_from_file\n",
    "\n",
    "\n",
    "import pandas as pd\n",
    "import numpy as np\n",
    "from matplotlib import pyplot as plt"
   ]
  },
  {
   "cell_type": "code",
   "execution_count": 14,
   "id": "077557e8",
   "metadata": {},
   "outputs": [],
   "source": [
    "from simulator import MdUpdate, OrderbookSnapshotUpdate, AnonTrade\n",
    "\n",
    "from get_info import md_to_dataframe, trade_to_dataframe"
   ]
  },
  {
   "cell_type": "code",
   "execution_count": 15,
   "id": "70330ff4",
   "metadata": {},
   "outputs": [],
   "source": [
    "def generate_sample_data_1(n_points):\n",
    "    mid_price = 100.0\n",
    "    spread = 2.0\n",
    "    bid_price = mid_price - spread / 2\n",
    "    ask_price = mid_price + spread / 2\n",
    "    size = 1\n",
    "    \n",
    "    order_books_md = [ MdUpdate(i, i, OrderbookSnapshotUpdate(i, i, [(ask_price, size)], [(bid_price, size)]), None)\n",
    "                     for i in range(n_points) ]\n",
    "    \n",
    "    \n",
    "    trades = []\n",
    "    p = 0.25\n",
    "    trade_id = np.random.choice([0, 1], size=n_points, p=[1-p, p])\n",
    "    for i in range(n_points):\n",
    "        \n",
    "        if trade_id[i]:\n",
    "            \n",
    "            side = np.random.choice([0, 1], size=1)[0]\n",
    "            price = bid_price if side else ask_price\n",
    "            side = \"ASK\" if side else \"BID\" \n",
    "            trade = AnonTrade(i, i, side, size, price)\n",
    "            trades.append(trade)\n",
    "\n",
    "    return order_books_md, trades"
   ]
  },
  {
   "cell_type": "code",
   "execution_count": 16,
   "id": "99727317",
   "metadata": {},
   "outputs": [],
   "source": [
    "def generate_sample_data_2(n_points):\n",
    "    \n",
    "    mid_price = 100.0\n",
    "    spread = 2.0\n",
    "    bid_price = mid_price - spread / 2\n",
    "    ask_price = mid_price + spread / 2\n",
    "    size = 1\n",
    "    \n",
    "    order_books_md = []\n",
    "    \n",
    "    \n",
    "    trades = []\n",
    "    p = 0.5\n",
    "    trade_id = np.random.choice([0, 1], size=n_points, p=[1-p, p])\n",
    "    trade_id = [i % 4 == 0 for i in range(n_points)]\n",
    "    for i in range(n_points):\n",
    "        \n",
    "        bid_price = mid_price - spread / 2\n",
    "        ask_price = mid_price + spread / 2\n",
    "        \n",
    "        order_book = OrderbookSnapshotUpdate(i, i, [(ask_price, size)], [(bid_price, size)])\n",
    "        order_books_md.append( MdUpdate(i, i, order_book, None)  )\n",
    "\n",
    "        if trade_id[i]:\n",
    "            side = np.random.choice([0, 1], size=1)[0]\n",
    "            side = i % 2\n",
    "            price = bid_price if side else ask_price\n",
    "            side = \"ASK\" if side else \"BID\" \n",
    "            trade = AnonTrade(i, i, side, size, price)\n",
    "            trades.append(trade)\n",
    "        \n",
    "        mid_price += 5\n",
    "    return order_books_md, trades"
   ]
  },
  {
   "cell_type": "code",
   "execution_count": 17,
   "id": "ce7d46b7",
   "metadata": {},
   "outputs": [
    {
     "data": {
      "image/png": "[encoded data removed]",
      "text/plain": [
       "<Figure size 1000x500 with 1 Axes>"
      ]
     },
     "metadata": {},
     "output_type": "display_data"
    }
   ],
   "source": [
    "order_books_md, anon_trades = generate_sample_data_1(100)\n",
    "\n",
    "#prepare MD\n",
    "trades_md = [ MdUpdate(trade.exchange_ts, trade.receive_ts, None, trade ) for trade in anon_trades ]\n",
    "md = order_books_md + trades_md\n",
    "md = sorted(md, key = lambda x: x.exchange_ts)\n",
    "\n",
    "latency = pd.Timedelta(0, 'ns').delta\n",
    "md_latency = pd.Timedelta(0, 'ns').delta\n",
    "sim = Sim(md, latency, md_latency)\n",
    "\n",
    "#delay between orders\n",
    "delay = pd.Timedelta(1, 'ns').delta\n",
    "hold_time = pd.Timedelta(1000, 'ns').delta\n",
    "strategy = BestPosStrategy(delay, hold_time)\n",
    "\n",
    "own_trades, md_list, updates_list = strategy.run(sim)\n",
    "\n",
    "\n",
    "df_own_trades = trade_to_dataframe(own_trades)\n",
    "df_anon_trades = trade_to_dataframe(anon_trades)\n",
    "\n",
    "df_info = get_pnl(updates_list)\n",
    "t = df_info.receive_ts.values\n",
    "\n",
    "plt.figure(figsize=(10, 5))\n",
    "plt.plot(t, df_info.total, '-', 'PnL')\n",
    "plt.plot(df_anon_trades.receive_ts, df_info.total[  df_anon_trades.receive_ts.values  ], '.', label='Anon trade')\n",
    "plt.plot(df_own_trades.receive_ts, df_info.total[  df_own_trades.receive_ts.values  ], '.', label='Own trade')\n",
    "plt.xlabel(\"time\", fontsize=13)\n",
    "plt.ylabel(\"PnL\", fontsize=13)\n",
    "plt.legend()\n",
    "\n",
    "plt.title(\"BestStrategy PnL\", fontsize=15)\n",
    "plt.grid()\n",
    "plt.show()"
   ]
  },
  {
   "cell_type": "code",
   "execution_count": 18,
   "id": "5cdad8f6",
   "metadata": {},
   "outputs": [
    {
     "data": {
      "image/png": "[encoded data removed]",
      "text/plain": [
       "<Figure size 1000x500 with 1 Axes>"
      ]
     },
     "metadata": {},
     "output_type": "display_data"
    }
   ],
   "source": [
    "order_books_md, anon_trades = generate_sample_data_2(100)\n",
    "\n",
    "#prepare MD\n",
    "trades_md = [ MdUpdate(trade.exchange_ts, trade.receive_ts, None, trade ) for trade in anon_trades ]\n",
    "md = order_books_md + trades_md\n",
    "md = sorted(md, key = lambda x: x.exchange_ts)\n",
    "\n",
    "latency = pd.Timedelta(0, 'ns').delta\n",
    "md_latency = pd.Timedelta(0, 'ns').delta\n",
    "sim = Sim(md, latency, md_latency)\n",
    "\n",
    "#delay between orders\n",
    "delay = pd.Timedelta(10, 'ns').delta\n",
    "hold_time = pd.Timedelta(1000, 'ns').delta\n",
    "strategy = BestPosStrategy(delay, hold_time)\n",
    "\n",
    "own_trades, md_list, updates_list = strategy.run(sim)\n",
    "\n",
    "\n",
    "df_own_trades = trade_to_dataframe(own_trades)\n",
    "df_anon_trades = trade_to_dataframe(anon_trades)\n",
    "\n",
    "df_info = get_pnl(updates_list)\n",
    "t = df_info.receive_ts.values\n",
    "\n",
    "plt.figure(figsize=(10, 5))\n",
    "plt.plot(t, df_info.total, '-', 'PnL')\n",
    "plt.plot(df_anon_trades.receive_ts, df_info.total[  df_anon_trades.receive_ts.values  ], '.', label='Anon trade')\n",
    "plt.plot(df_own_trades.receive_ts, df_info.total[  df_own_trades.receive_ts.values  ], '.', label='Own trade')\n",
    "plt.xlabel(\"time\", fontsize=13)\n",
    "plt.ylabel(\"PnL\", fontsize=13)\n",
    "plt.legend()\n",
    "\n",
    "plt.title(\"BestStrategy PnL\", fontsize=15)\n",
    "plt.grid()\n",
    "plt.show()"
   ]
  }
 ],
 "metadata": {
  "kernelspec": {
   "display_name": "env",
   "language": "python",
   "name": "env"
  },
  "language_info": {
   "codemirror_mode": {
    "name": "ipython",
    "version": 3
   },
   "file_extension": ".py",
   "mimetype": "text/x-python",
   "name": "python",
   "nbconvert_exporter": "python",
   "pygments_lexer": "ipython3",
   "version": "3.8.12"
  }
 },
 "nbformat": 4,
 "nbformat_minor": 5
}
