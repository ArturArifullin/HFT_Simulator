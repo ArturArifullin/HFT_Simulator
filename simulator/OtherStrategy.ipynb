{
 "cells": [
  {
   "cell_type": "code",
   "execution_count": null,
   "metadata": {},
   "outputs": [],
   "source": []
  }
 ],
 "metadata": {
  "kernelspec": {
   "display_name": "Python 3.10.6 ('py310')",
   "language": "python",
   "name": "python3"
  },
  "language_info": {
   "name": "python",
   "version": "3.10.6"
  },
  "orig_nbformat": 4,
  "vscode": {
   "interpreter": {
    "hash": "c640a82ebbbb3b66de6d201478676794d94ebcce96d4048defbf8e4f3fb03995"
   }
  }
 },
 "nbformat": 4,
 "nbformat_minor": 2
}
